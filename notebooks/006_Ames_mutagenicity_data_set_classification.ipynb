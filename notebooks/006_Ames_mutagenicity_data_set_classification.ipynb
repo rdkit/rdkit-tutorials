{
 "cells": [
  {
   "cell_type": "markdown",
   "metadata": {},
   "source": [
    "# Ames mutagenicity data set classification\n",
    "[Ames mutagenicity data set](http://pubs.acs.org/doi/suppl/10.1021/ci900161g) is a popular dataset for benchmarking classification machine learning methods in cheminformatics. Morgan fingerprints will be used to featurize the molecules. Features will be then used to train random forest models which will be validated within 4-fold cross validation."
   ]
  },
  {
   "cell_type": "markdown",
   "metadata": {},
   "source": [
    "@TAGS: #advanced #sklearn #Classification #RandomForest"
   ]
  },
  {
   "cell_type": "code",
   "execution_count": 1,
   "metadata": {
    "collapsed": true
   },
   "outputs": [],
   "source": [
    "from __future__ import print_function\n",
    "% matplotlib inline"
   ]
  },
  {
   "cell_type": "code",
   "execution_count": 2,
   "metadata": {
    "collapsed": true
   },
   "outputs": [],
   "source": [
    "import numpy as np\n",
    "import pandas as pd\n",
    "from rdkit import Chem\n",
    "from rdkit.Chem import PandasTools\n",
    "from rdkit.Chem.Draw import IPythonConsole"
   ]
  },
  {
   "cell_type": "markdown",
   "metadata": {},
   "source": [
    "Load the pre-processed [Ames mutagenicity data set](http://pubs.acs.org/doi/suppl/10.1021/ci900161g)"
   ]
  },
  {
   "cell_type": "code",
   "execution_count": 3,
   "metadata": {
    "collapsed": true
   },
   "outputs": [],
   "source": [
    "df = PandasTools.LoadSDF('../data/ames.sdf')"
   ]
  },
  {
   "cell_type": "code",
   "execution_count": 4,
   "metadata": {},
   "outputs": [
    {
     "data": {
      "text/html": [
       "<table border=\"1\" class=\"dataframe\">\n",
       "  <thead>\n",
       "    <tr style=\"text-align: right;\">\n",
       "      <th></th>\n",
       "      <th>ID</th>\n",
       "      <th>ROMol</th>\n",
       "      <th>class</th>\n",
       "    </tr>\n",
       "  </thead>\n",
       "  <tbody>\n",
       "    <tr>\n",
       "      <th>0</th>\n",
       "      <td>2475-33-4</td>\n",
       "      <td><img src=\"data:image/png;base64,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\" alt=\"Mol\"/></td>\n",
       "      <td>0</td>\n",
       "    </tr>\n",
       "  </tbody>\n",
       "</table>"
      ],
      "text/plain": [
       "           ID                                                                                                                                                                                                                                                                                                                                                                                                                                                                                                                                                                                                                                                                                                                                                                                                                                                                                                                                                                                                                                                                                                                                                                                                                                                                                                                                                                                                                                                                                                                                                                                                                                                                                                                                                                                                                                                                                                                                                                                                                                                                                                                                                                                                                                                                                                                                                                                                                                                                                                                                                                                                                                                                                                                                                                                                                                                                                                                                                                                                                                                                                                                                                                                                                                                                                                                                                                                                                                                                                                                                                                                                                                                                                                                                                                                                                                                                                                                                                                                                                                                                                                                                                                                                                                                                                                                                                                                                                                                                                                                                                                                                                                                                                                                                                                                                                                                                                                                                                                                                                                                                                                                                                                                                                                                                                                                                                                                                                                                                                                                                                                                                                                                                                                                                                                                                                                                                                                                                                                                                                                                                                                                                                                                                                                                                                                                                                                                                                                                                                                                                                                                                                                                                                                                                                                                                                                                                                                                                                                                                                                                                                                                                                                                                                                                                                                                                                                                                                                                                                                                                                                                                                                                                                                                                                                                                                                                                                                                                                                                                                                                                                                                                                                                                                                                                                                                                                                                                                                                                                                                                                                                                                                                                                                                                                                                                                                                                                                                                                                                                                                                                                                                                                                                                                                                                                                                                                                                                                                                                                                                                                                                                                                                                                                                                                                                                                                                                                                                                                                                                                                                                                                                                                                                                                                                                                                                                                                                                                                                                                                                                                                                                                                                                                                                                                                                                                                                                                                                                                                                                                                                                                                                                                                                                                                                                                                                                                                                                                                                                                                                                                                                                                                                                                                                                                                                                                                                                                                                                                                                                                                                                                                                                                                      ROMol class\n",
       "0  2475-33-4   <img src=\"data:image/png;base64,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\" alt=\"Mol\"/>     0"
      ]
     },
     "execution_count": 4,
     "metadata": {},
     "output_type": "execute_result"
    }
   ],
   "source": [
    "df.head(1)"
   ]
  },
  {
   "cell_type": "code",
   "execution_count": 5,
   "metadata": {},
   "outputs": [
    {
     "data": {
      "text/plain": [
       "6506"
      ]
     },
     "execution_count": 5,
     "metadata": {},
     "output_type": "execute_result"
    }
   ],
   "source": [
    "len(df)"
   ]
  },
  {
   "cell_type": "markdown",
   "metadata": {},
   "source": [
    "## Featurization"
   ]
  },
  {
   "cell_type": "markdown",
   "metadata": {},
   "source": [
    "Helper classes and functions"
   ]
  },
  {
   "cell_type": "code",
   "execution_count": 6,
   "metadata": {
    "collapsed": true
   },
   "outputs": [],
   "source": [
    "from rdkit import DataStructs\n",
    "from rdkit.Chem import AllChem\n",
    "\n",
    "class FP:\n",
    "    \"\"\"\n",
    "    Molecular fingerprint class, useful to pack features in pandas df\n",
    "    \n",
    "    Parameters  \n",
    "    ---------- \n",
    "    fp : np.array\n",
    "        Features stored in numpy array\n",
    "    names : list, np.array\n",
    "        Names of the features\n",
    "    \"\"\"\n",
    "    def __init__(self, fp, names):\n",
    "        self.fp = fp\n",
    "        self.names = names\n",
    "    def __str__(self):\n",
    "        return \"%d bit FP\" % len(self.fp)\n",
    "    def __len__(self):\n",
    "        return len(self.fp)\n",
    "\n",
    "def get_cfps(mol, radius=2, nBits=1024, useFeatures=False, counts=False, dtype=np.float32):\n",
    "    \"\"\"Calculates circural (Morgan) fingerprint.  \n",
    "    http://rdkit.org/docs/GettingStartedInPython.html#morgan-fingerprints-circular-fingerprints  \n",
    "    \n",
    "    Parameters\n",
    "    ----------\n",
    "    mol : rdkit.Chem.rdchem.Mol\n",
    "    radius : float \n",
    "        Fingerprint radius, default 2\n",
    "    nBits : int \n",
    "        Length of hashed fingerprint (without descriptors), default 1024\n",
    "    useFeatures : bool  \n",
    "        To get feature fingerprints (FCFP) instead of normal ones (ECFP), defaults to False\n",
    "    counts : bool\n",
    "        If set to true it returns for each bit number of appearances of each substructure (counts). Defaults to false (fingerprint is binary)\n",
    "    dtype : np.dtype\n",
    "        Numpy data type for the array. Defaults to np.float32 because it is the default dtype for scikit-learn\n",
    "    \n",
    "    Returns\n",
    "    -------\n",
    "    ML.FP\n",
    "        Fingerprint (feature) object\n",
    "    \"\"\"\n",
    "    arr = np.zeros((1,), dtype)\n",
    "    \n",
    "    if counts is True:\n",
    "        info = {}\n",
    "        fp = AllChem.GetMorganFingerprintAsBitVect(mol, radius, nBits=nBits, useFeatures=useFeatures, bitInfo=info)\n",
    "        DataStructs.ConvertToNumpyArray(fp, arr)\n",
    "        arr = np.array([len(info[x]) if x in info else 0 for x in range(nBits)], dtype)\n",
    "    else:\n",
    "        DataStructs.ConvertToNumpyArray(AllChem.GetMorganFingerprintAsBitVect(mol, radius, nBits=nBits, useFeatures=useFeatures), arr)\n",
    "    return FP(arr, range(nBits))"
   ]
  },
  {
   "cell_type": "markdown",
   "metadata": {},
   "source": [
    "Calculate Morgan fingerprints and store them as FP objects in the data frame"
   ]
  },
  {
   "cell_type": "code",
   "execution_count": 7,
   "metadata": {},
   "outputs": [
    {
     "data": {
      "text/html": [
       "<table border=\"1\" class=\"dataframe\">\n",
       "  <thead>\n",
       "    <tr style=\"text-align: right;\">\n",
       "      <th></th>\n",
       "      <th>ID</th>\n",
       "      <th>ROMol</th>\n",
       "      <th>class</th>\n",
       "      <th>FP</th>\n",
       "    </tr>\n",
       "  </thead>\n",
       "  <tbody>\n",
       "    <tr>\n",
       "      <th>0</th>\n",
       "      <td>2475-33-4</td>\n",
       "      <td><img src=\"data:image/png;base64,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\" alt=\"Mol\"/></td>\n",
       "      <td>0</td>\n",
       "      <td>1024 bit FP</td>\n",
       "    </tr>\n",
       "  </tbody>\n",
       "</table>"
      ],
      "text/plain": [
       "           ID                                                                                                                                                                                                                                                                                                                                                                                                                                                                                                                                                                                                                                                                                                                                                                                                                                                                                                                                                                                                                                                                                                                                                                                                                                                                                                                                                                                                                                                                                                                                                                                                                                                                                                                                                                                                                                                                                                                                                                                                                                                                                                                                                                                                                                                                                                                                                                                                                                                                                                                                                                                                                                                                                                                                                                                                                                                                                                                                                                                                                                                                                                                                                                                                                                                                                                                                                                                                                                                                                                                                                                                                                                                                                                                                                                                                                                                                                                                                                                                                                                                                                                                                                                                                                                                                                                                                                                                                                                                                                                                                                                                                                                                                                                                                                                                                                                                                                                                                                                                                                                                                                                                                                                                                                                                                                                                                                                                                                                                                                                                                                                                                                                                                                                                                                                                                                                                                                                                                                                                                                                                                                                                                                                                                                                                                                                                                                                                                                                                                                                                                                                                                                                                                                                                                                                                                                                                                                                                                                                                                                                                                                                                                                                                                                                                                                                                                                                                                                                                                                                                                                                                                                                                                                                                                                                                                                                                                                                                                                                                                                                                                                                                                                                                                                                                                                                                                                                                                                                                                                                                                                                                                                                                                                                                                                                                                                                                                                                                                                                                                                                                                                                                                                                                                                                                                                                                                                                                                                                                                                                                                                                                                                                                                                                                                                                                                                                                                                                                                                                                                                                                                                                                                                                                                                                                                                                                                                                                                                                                                                                                                                                                                                                                                                                                                                                                                                                                                                                                                                                                                                                                                                                                                                                                                                                                                                                                                                                                                                                                                                                                                                                                                                                                                                                                                                                                                                                                                                                                                                                                                                                                                                                                                                                      ROMol class           FP\n",
       "0  2475-33-4   <img src=\"data:image/png;base64,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\" alt=\"Mol\"/>     0  1024 bit FP"
      ]
     },
     "execution_count": 7,
     "metadata": {},
     "output_type": "execute_result"
    }
   ],
   "source": [
    "df['FP'] = df['ROMol'].map(get_cfps)\n",
    "df.head(1)"
   ]
  },
  {
   "cell_type": "markdown",
   "metadata": {},
   "source": [
    "Extract the features (X) and target values (y) from the data frame"
   ]
  },
  {
   "cell_type": "code",
   "execution_count": 8,
   "metadata": {
    "collapsed": true
   },
   "outputs": [],
   "source": [
    "X = np.array([x.fp for x in df['FP']])\n",
    "y = np.array(df['class'], int)"
   ]
  },
  {
   "cell_type": "markdown",
   "metadata": {},
   "source": [
    "## Cross validation"
   ]
  },
  {
   "cell_type": "code",
   "execution_count": 9,
   "metadata": {
    "collapsed": true
   },
   "outputs": [],
   "source": [
    "from sklearn.model_selection import StratifiedKFold\n",
    "from sklearn.ensemble import RandomForestClassifier"
   ]
  },
  {
   "cell_type": "markdown",
   "metadata": {},
   "source": [
    "To validate a machine learning approach cross validation (CV) is common strategy since all available data is used to obtain performance metrics of your selected method. It is a good practice to keep class ratios (stratification) and shuffle samples so we will use [stratified K-fold](http://scikit-learn.org/stable/modules/generated/sklearn.model_selection.StratifiedKFold.html) CV with shuffling."
   ]
  },
  {
   "cell_type": "code",
   "execution_count": 10,
   "metadata": {
    "collapsed": true
   },
   "outputs": [],
   "source": [
    "kf = StratifiedKFold(n_splits=4, shuffle=True, random_state=0)"
   ]
  },
  {
   "cell_type": "markdown",
   "metadata": {},
   "source": [
    "Random forest classifier with 10 estimators is the selected machine learning method"
   ]
  },
  {
   "cell_type": "code",
   "execution_count": 11,
   "metadata": {
    "collapsed": true
   },
   "outputs": [],
   "source": [
    "clf = RandomForestClassifier(n_estimators=10, random_state=0)"
   ]
  },
  {
   "cell_type": "markdown",
   "metadata": {},
   "source": [
    "4-fold CV"
   ]
  },
  {
   "cell_type": "code",
   "execution_count": 12,
   "metadata": {
    "collapsed": true
   },
   "outputs": [],
   "source": [
    "#doctest: IGNORE\n",
    "y_values = []\n",
    "predictions = []\n",
    "probas = []\n",
    "for train, test in kf.split(X, y):\n",
    "    clf.fit(X[train], y[train])\n",
    "    predictions.append(clf.predict(X[test]))\n",
    "    probas.append(clf.predict_proba(X[test]).T[1]) # Probabilities for class 1\n",
    "    y_values.append(y[test])"
   ]
  },
  {
   "cell_type": "markdown",
   "metadata": {},
   "source": [
    "Check the performance of the models using receiver operating characteristic (ROC) curve and area under ROC curve (ROC AUC)."
   ]
  },
  {
   "cell_type": "code",
   "execution_count": 13,
   "metadata": {
    "collapsed": true
   },
   "outputs": [],
   "source": [
    "from matplotlib import pyplot as plt\n",
    "from sklearn.metrics import roc_curve, roc_auc_score"
   ]
  },
  {
   "cell_type": "code",
   "execution_count": 14,
   "metadata": {
    "collapsed": true
   },
   "outputs": [],
   "source": [
    "aucs = [roc_auc_score(y, proba) for y, proba in zip(y_values, probas)]"
   ]
  },
  {
   "cell_type": "markdown",
   "metadata": {},
   "source": [
    "## Performance metrics"
   ]
  },
  {
   "cell_type": "markdown",
   "metadata": {},
   "source": [
    "ROC AUC gives an indication how well the probabilities of the two classes are separated. Range for the ROC AUC is between 0 and 1 where 0.5 represents random selection and 1 means perfect separation."
   ]
  },
  {
   "cell_type": "code",
   "execution_count": 15,
   "metadata": {},
   "outputs": [
    {
     "name": "stdout",
     "output_type": "stream",
     "text": [
      "Mean AUC: 0.84 +- 0.01\n"
     ]
    }
   ],
   "source": [
    "print('Mean AUC: %0.2f +- %0.2f' % (np.mean(aucs), np.std(aucs)))"
   ]
  },
  {
   "cell_type": "markdown",
   "metadata": {},
   "source": [
    "Plot the ROC curves"
   ]
  },
  {
   "cell_type": "code",
   "execution_count": 16,
   "metadata": {},
   "outputs": [
    {
     "data": {
      "image/png": "[encoded data removed]",
      "text/plain": [
       "<matplotlib.figure.Figure at 0x7f2fc5465940>"
      ]
     },
     "metadata": {},
     "output_type": "display_data"
    }
   ],
   "source": [
    "#doctest: IGNORE\n",
    "f, ((p1, p2, p3, p4)) = plt.subplots(1,4, squeeze=True, sharex=True, sharey=True, \n",
    "                                                    figsize=(12,3))\n",
    "\n",
    "for y,proba,ax in zip(y_values, probas, (p1,p2,p3,p4)):\n",
    "    tpr, fpr, _ = roc_curve(y, proba)\n",
    "    auc = roc_auc_score(y, proba)\n",
    "    ax.plot(tpr, fpr)\n",
    "    ax.get_xaxis().set_visible(False)\n",
    "    ax.get_yaxis().set_visible(False)\n",
    "    ax.text(0.95, 0.01, u\"%0.2f\" % auc,\n",
    "            verticalalignment='bottom', horizontalalignment='right',\n",
    "            transform=ax.transAxes, weight='bold',\n",
    "            fontsize=10)"
   ]
  },
  {
   "cell_type": "markdown",
   "metadata": {},
   "source": [
    "The four models from cross validation show very similar performance and thus it seems that our methods is robust. Final model for prospective predictions should be trained on all samples."
   ]
  },
  {
   "cell_type": "markdown",
   "metadata": {
    "collapsed": true
   },
   "source": [
    "Tutorial author: Samo Turk, Nov. 2017"
   ]
  },
  {
   "cell_type": "code",
   "execution_count": null,
   "metadata": {
    "collapsed": true
   },
   "outputs": [],
   "source": []
  }
 ],
 "metadata": {
  "anaconda-cloud": {},
  "kernelspec": {
   "display_name": "Python 3",
   "language": "python",
   "name": "python3"
  },
  "language_info": {
   "codemirror_mode": {
    "name": "ipython",
    "version": 3
   },
   "file_extension": ".py",
   "mimetype": "text/x-python",
   "name": "python",
   "nbconvert_exporter": "python",
   "pygments_lexer": "ipython3",
   "version": "3.6.3"
  }
 },
 "nbformat": 4,
 "nbformat_minor": 1
}
